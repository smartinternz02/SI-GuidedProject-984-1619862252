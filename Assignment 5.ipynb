{
 "cells": [
  {
   "cell_type": "code",
   "execution_count": 1,
   "metadata": {},
   "outputs": [],
   "source": [
    "from tensorflow.keras.models import Sequential\n",
    "from tensorflow.keras.layers import Dense\n",
    "from tensorflow.keras.layers import Convolution2D\n",
    "from tensorflow.keras.layers import MaxPooling2D\n",
    "from tensorflow.keras.layers import Flatten\n"
   ]
  },
  {
   "cell_type": "code",
   "execution_count": 2,
   "metadata": {},
   "outputs": [
    {
     "name": "stderr",
     "output_type": "stream",
     "text": [
      "Using TensorFlow backend.\n"
     ]
    }
   ],
   "source": [
    "from keras.preprocessing.image import ImageDataGenerator\n",
    "train_datagen=ImageDataGenerator(rescale=1./255,shear_range=0.2,zoom_range=0.2,horizontal_flip=True)\n",
    "test_datagen=ImageDataGenerator(rescale=1./255)"
   ]
  },
  {
   "cell_type": "code",
   "execution_count": 3,
   "metadata": {},
   "outputs": [
    {
     "name": "stdout",
     "output_type": "stream",
     "text": [
      "Found 622 images belonging to 5 classes.\n",
      "Found 622 images belonging to 5 classes.\n"
     ]
    }
   ],
   "source": [
    "x_train=train_datagen.flow_from_directory(r\"C:\\Objects\\traintest\",target_size=(64,64),batch_size=32,class_mode=\"categorical\")\n",
    "x_test=train_datagen.flow_from_directory(r\"C:\\Objects\\testset\",target_size=(64,64),batch_size=32,class_mode=\"categorical\")\n"
   ]
  },
  {
   "cell_type": "code",
   "execution_count": 4,
   "metadata": {},
   "outputs": [],
   "source": [
    "model=Sequential()\n"
   ]
  },
  {
   "cell_type": "code",
   "execution_count": 5,
   "metadata": {},
   "outputs": [
    {
     "name": "stdout",
     "output_type": "stream",
     "text": [
      "WARNING:tensorflow:From C:\\Users\\manisha\\Anaconda3\\lib\\site-packages\\tensorflow\\python\\ops\\init_ops.py:1251: calling VarianceScaling.__init__ (from tensorflow.python.ops.init_ops) with dtype is deprecated and will be removed in a future version.\n",
      "Instructions for updating:\n",
      "Call initializer instance with the dtype argument instead of passing it to the constructor\n"
     ]
    }
   ],
   "source": [
    "model.add(Convolution2D(32,(3,3),input_shape=(64,64,3),activation=\"relu\"))"
   ]
  },
  {
   "cell_type": "code",
   "execution_count": 6,
   "metadata": {},
   "outputs": [],
   "source": [
    "model.add(MaxPooling2D(2,2))"
   ]
  },
  {
   "cell_type": "code",
   "execution_count": 7,
   "metadata": {},
   "outputs": [],
   "source": [
    "model.add(Flatten())"
   ]
  },
  {
   "cell_type": "code",
   "execution_count": 8,
   "metadata": {},
   "outputs": [
    {
     "name": "stdout",
     "output_type": "stream",
     "text": [
      "WARNING:tensorflow:From C:\\Users\\manisha\\Anaconda3\\lib\\site-packages\\tensorflow\\python\\keras\\initializers.py:119: calling RandomUniform.__init__ (from tensorflow.python.ops.init_ops) with dtype is deprecated and will be removed in a future version.\n",
      "Instructions for updating:\n",
      "Call initializer instance with the dtype argument instead of passing it to the constructor\n"
     ]
    }
   ],
   "source": [
    "model.add(Dense(units=512,activation=\"relu\",kernel_initializer=\"random_uniform\"))"
   ]
  },
  {
   "cell_type": "code",
   "execution_count": 9,
   "metadata": {},
   "outputs": [],
   "source": [
    "model.add(Dense(units=5,activation=\"softmax\",kernel_initializer=\"random_uniform\"))"
   ]
  },
  {
   "cell_type": "code",
   "execution_count": 10,
   "metadata": {},
   "outputs": [],
   "source": [
    "model.compile(\"sgd\",loss=\"categorical_crossentropy\",metrics=[\"accuracy\"])"
   ]
  },
  {
   "cell_type": "code",
   "execution_count": 11,
   "metadata": {},
   "outputs": [
    {
     "name": "stdout",
     "output_type": "stream",
     "text": [
      "Epoch 1/80\n",
      "19/19 [==============================] - 19s 981ms/step - loss: 1.6167 - acc: 0.3288 - val_loss: 1.5267 - val_acc: 0.3503\n",
      "Epoch 2/80\n",
      "19/19 [==============================] - 8s 425ms/step - loss: 1.5460 - acc: 0.3322 - val_loss: 1.5102 - val_acc: 0.3602\n",
      "Epoch 3/80\n",
      "19/19 [==============================] - 8s 419ms/step - loss: 1.4968 - acc: 0.3746 - val_loss: 1.4785 - val_acc: 0.3618\n",
      "Epoch 4/80\n",
      "19/19 [==============================] - 8s 423ms/step - loss: 1.4908 - acc: 0.3734 - val_loss: 1.4903 - val_acc: 0.3553\n",
      "Epoch 5/80\n",
      "19/19 [==============================] - 8s 418ms/step - loss: 1.4826 - acc: 0.3811 - val_loss: 1.4755 - val_acc: 0.3766\n",
      "Epoch 6/80\n",
      "19/19 [==============================] - 8s 421ms/step - loss: 1.4870 - acc: 0.3915 - val_loss: 1.4522 - val_acc: 0.3898\n",
      "Epoch 7/80\n",
      "19/19 [==============================] - 8s 443ms/step - loss: 1.4354 - acc: 0.4000 - val_loss: 1.4094 - val_acc: 0.4095\n",
      "Epoch 8/80\n",
      "19/19 [==============================] - 8s 441ms/step - loss: 1.4106 - acc: 0.4391 - val_loss: 1.3646 - val_acc: 0.4309\n",
      "Epoch 9/80\n",
      "19/19 [==============================] - 8s 428ms/step - loss: 1.4313 - acc: 0.3969 - val_loss: 1.4762 - val_acc: 0.2582\n",
      "Epoch 10/80\n",
      "19/19 [==============================] - 8s 415ms/step - loss: 1.3566 - acc: 0.4507 - val_loss: 1.3531 - val_acc: 0.4309\n",
      "Epoch 11/80\n",
      "19/19 [==============================] - 8s 419ms/step - loss: 1.3818 - acc: 0.4271 - val_loss: 1.3600 - val_acc: 0.4326\n",
      "Epoch 12/80\n",
      "19/19 [==============================] - 8s 416ms/step - loss: 1.3250 - acc: 0.4644 - val_loss: 1.3025 - val_acc: 0.4737\n",
      "Epoch 13/80\n",
      "19/19 [==============================] - 8s 424ms/step - loss: 1.4176 - acc: 0.4000 - val_loss: 1.3196 - val_acc: 0.4984\n",
      "Epoch 14/80\n",
      "19/19 [==============================] - 8s 420ms/step - loss: 1.3350 - acc: 0.4831 - val_loss: 1.5002 - val_acc: 0.3898\n",
      "Epoch 15/80\n",
      "19/19 [==============================] - 8s 410ms/step - loss: 1.3630 - acc: 0.4231 - val_loss: 1.3504 - val_acc: 0.4490\n",
      "Epoch 16/80\n",
      "19/19 [==============================] - 8s 425ms/step - loss: 1.3126 - acc: 0.4797 - val_loss: 1.3628 - val_acc: 0.4128\n",
      "Epoch 17/80\n",
      "19/19 [==============================] - 8s 421ms/step - loss: 1.2669 - acc: 0.4763 - val_loss: 1.2750 - val_acc: 0.4688\n",
      "Epoch 18/80\n",
      "19/19 [==============================] - 8s 417ms/step - loss: 1.3053 - acc: 0.4572 - val_loss: 1.2769 - val_acc: 0.4556\n",
      "Epoch 19/80\n",
      "19/19 [==============================] - 8s 420ms/step - loss: 1.2747 - acc: 0.4915 - val_loss: 1.2536 - val_acc: 0.4737\n",
      "Epoch 20/80\n",
      "19/19 [==============================] - 8s 416ms/step - loss: 1.3010 - acc: 0.4508 - val_loss: 1.2570 - val_acc: 0.4622\n",
      "Epoch 21/80\n",
      "19/19 [==============================] - 8s 402ms/step - loss: 1.2856 - acc: 0.4753 - val_loss: 1.2734 - val_acc: 0.4753\n",
      "Epoch 22/80\n",
      "19/19 [==============================] - 8s 404ms/step - loss: 1.2716 - acc: 0.4738 - val_loss: 1.3024 - val_acc: 0.4704\n",
      "Epoch 23/80\n",
      "19/19 [==============================] - 8s 407ms/step - loss: 1.2754 - acc: 0.4746 - val_loss: 1.1955 - val_acc: 0.4984\n",
      "Epoch 24/80\n",
      "19/19 [==============================] - 8s 411ms/step - loss: 1.2555 - acc: 0.4983 - val_loss: 1.2499 - val_acc: 0.4622\n",
      "Epoch 25/80\n",
      "19/19 [==============================] - 8s 418ms/step - loss: 1.2394 - acc: 0.4847 - val_loss: 1.2000 - val_acc: 0.4868\n",
      "Epoch 26/80\n",
      "19/19 [==============================] - 8s 407ms/step - loss: 1.2550 - acc: 0.4881 - val_loss: 1.1707 - val_acc: 0.5099\n",
      "Epoch 27/80\n",
      "19/19 [==============================] - 8s 408ms/step - loss: 1.2453 - acc: 0.4967 - val_loss: 1.2408 - val_acc: 0.5378\n",
      "Epoch 28/80\n",
      "19/19 [==============================] - 8s 411ms/step - loss: 1.1931 - acc: 0.5271 - val_loss: 1.2062 - val_acc: 0.4836\n",
      "Epoch 29/80\n",
      "19/19 [==============================] - 8s 422ms/step - loss: 1.2060 - acc: 0.5105 - val_loss: 1.2187 - val_acc: 0.4967\n",
      "Epoch 30/80\n",
      "19/19 [==============================] - 8s 421ms/step - loss: 1.2388 - acc: 0.5119 - val_loss: 1.2354 - val_acc: 0.5164\n",
      "Epoch 31/80\n",
      "19/19 [==============================] - 8s 431ms/step - loss: 1.1684 - acc: 0.5411 - val_loss: 1.1908 - val_acc: 0.4967\n",
      "Epoch 32/80\n",
      "19/19 [==============================] - 8s 418ms/step - loss: 1.1606 - acc: 0.5288 - val_loss: 1.1660 - val_acc: 0.4967\n",
      "Epoch 33/80\n",
      "19/19 [==============================] - 8s 416ms/step - loss: 1.1686 - acc: 0.5322 - val_loss: 1.2088 - val_acc: 0.5526\n",
      "Epoch 34/80\n",
      "19/19 [==============================] - 8s 417ms/step - loss: 1.1794 - acc: 0.5475 - val_loss: 1.2396 - val_acc: 0.5493\n",
      "Epoch 35/80\n",
      "19/19 [==============================] - 8s 417ms/step - loss: 1.1686 - acc: 0.5192 - val_loss: 1.1780 - val_acc: 0.5214\n",
      "Epoch 36/80\n",
      "19/19 [==============================] - 8s 419ms/step - loss: 1.1664 - acc: 0.5461 - val_loss: 1.1321 - val_acc: 0.5296\n",
      "Epoch 37/80\n",
      "19/19 [==============================] - 8s 426ms/step - loss: 1.1823 - acc: 0.5254 - val_loss: 1.1466 - val_acc: 0.5378\n",
      "Epoch 38/80\n",
      "19/19 [==============================] - 8s 415ms/step - loss: 1.1081 - acc: 0.5915 - val_loss: 1.1435 - val_acc: 0.5329\n",
      "Epoch 39/80\n",
      "19/19 [==============================] - 8s 424ms/step - loss: 1.1754 - acc: 0.5271 - val_loss: 1.1001 - val_acc: 0.5938\n",
      "Epoch 40/80\n",
      "19/19 [==============================] - 8s 439ms/step - loss: 1.1210 - acc: 0.5814 - val_loss: 1.0927 - val_acc: 0.5312\n",
      "Epoch 41/80\n",
      "19/19 [==============================] - 8s 401ms/step - loss: 1.1976 - acc: 0.5356 - val_loss: 1.1044 - val_acc: 0.5822\n",
      "Epoch 42/80\n",
      "19/19 [==============================] - 8s 408ms/step - loss: 1.1219 - acc: 0.5508 - val_loss: 1.1382 - val_acc: 0.5296\n",
      "Epoch 43/80\n",
      "19/19 [==============================] - 8s 414ms/step - loss: 1.0994 - acc: 0.5678 - val_loss: 1.0874 - val_acc: 0.5757\n",
      "Epoch 44/80\n",
      "19/19 [==============================] - 8s 428ms/step - loss: 1.0747 - acc: 0.5712 - val_loss: 1.0561 - val_acc: 0.5938\n",
      "Epoch 45/80\n",
      "19/19 [==============================] - 8s 407ms/step - loss: 1.1108 - acc: 0.5627 - val_loss: 1.0948 - val_acc: 0.5345\n",
      "Epoch 46/80\n",
      "19/19 [==============================] - 9s 482ms/step - loss: 1.0665 - acc: 0.5542 - val_loss: 1.0317 - val_acc: 0.6102\n",
      "Epoch 47/80\n",
      "19/19 [==============================] - 8s 430ms/step - loss: 1.1827 - acc: 0.5169 - val_loss: 1.0388 - val_acc: 0.6168\n",
      "Epoch 48/80\n",
      "19/19 [==============================] - 9s 497ms/step - loss: 1.0962 - acc: 0.5831 - val_loss: 1.0356 - val_acc: 0.6168\n",
      "Epoch 49/80\n",
      "19/19 [==============================] - 8s 411ms/step - loss: 1.0895 - acc: 0.5576 - val_loss: 1.1278 - val_acc: 0.5609\n",
      "Epoch 50/80\n",
      "19/19 [==============================] - 8s 411ms/step - loss: 1.0513 - acc: 0.5938 - val_loss: 0.9901 - val_acc: 0.6036\n",
      "Epoch 51/80\n",
      "19/19 [==============================] - 8s 436ms/step - loss: 1.0666 - acc: 0.6154 - val_loss: 0.9945 - val_acc: 0.5921\n",
      "Epoch 52/80\n",
      "19/19 [==============================] - 8s 408ms/step - loss: 1.0575 - acc: 0.5789 - val_loss: 1.0627 - val_acc: 0.5789\n",
      "Epoch 53/80\n",
      "19/19 [==============================] - 8s 415ms/step - loss: 0.9969 - acc: 0.5932 - val_loss: 1.0068 - val_acc: 0.6086\n",
      "Epoch 54/80\n",
      "19/19 [==============================] - 9s 463ms/step - loss: 1.0525 - acc: 0.5949 - val_loss: 1.0095 - val_acc: 0.6283\n",
      "Epoch 55/80\n",
      "19/19 [==============================] - 8s 428ms/step - loss: 1.0952 - acc: 0.5746 - val_loss: 1.0249 - val_acc: 0.6184\n",
      "Epoch 56/80\n",
      "19/19 [==============================] - 9s 456ms/step - loss: 0.9870 - acc: 0.6101 - val_loss: 1.0048 - val_acc: 0.5970\n",
      "Epoch 57/80\n",
      "19/19 [==============================] - 8s 446ms/step - loss: 1.0030 - acc: 0.6217 - val_loss: 1.0314 - val_acc: 0.5970\n",
      "Epoch 58/80\n",
      "19/19 [==============================] - 8s 444ms/step - loss: 1.0034 - acc: 0.6186 - val_loss: 0.9541 - val_acc: 0.6234\n",
      "Epoch 59/80\n",
      "19/19 [==============================] - 8s 433ms/step - loss: 0.9918 - acc: 0.6305 - val_loss: 0.9435 - val_acc: 0.6283\n",
      "Epoch 60/80\n",
      "19/19 [==============================] - 8s 421ms/step - loss: 0.9710 - acc: 0.6322 - val_loss: 1.0319 - val_acc: 0.5938\n",
      "Epoch 61/80\n",
      "19/19 [==============================] - 8s 415ms/step - loss: 1.0037 - acc: 0.6000 - val_loss: 0.9396 - val_acc: 0.6628\n",
      "Epoch 62/80\n"
     ]
    },
    {
     "name": "stdout",
     "output_type": "stream",
     "text": [
      "19/19 [==============================] - 9s 470ms/step - loss: 0.9644 - acc: 0.6271 - val_loss: 0.9383 - val_acc: 0.6809\n",
      "Epoch 63/80\n",
      "19/19 [==============================] - 8s 415ms/step - loss: 0.9345 - acc: 0.6373 - val_loss: 1.1265 - val_acc: 0.5592\n",
      "Epoch 64/80\n",
      "19/19 [==============================] - 8s 426ms/step - loss: 0.9608 - acc: 0.6217 - val_loss: 0.9226 - val_acc: 0.6546\n",
      "Epoch 65/80\n",
      "19/19 [==============================] - 8s 426ms/step - loss: 0.9676 - acc: 0.6119 - val_loss: 0.8569 - val_acc: 0.6957\n",
      "Epoch 66/80\n",
      "19/19 [==============================] - 8s 419ms/step - loss: 0.9263 - acc: 0.6399 - val_loss: 0.8798 - val_acc: 0.6645\n",
      "Epoch 67/80\n",
      "19/19 [==============================] - 8s 418ms/step - loss: 0.8798 - acc: 0.6678 - val_loss: 0.8750 - val_acc: 0.7007\n",
      "Epoch 68/80\n",
      "19/19 [==============================] - 8s 427ms/step - loss: 0.9911 - acc: 0.6066 - val_loss: 0.9076 - val_acc: 0.6497\n",
      "Epoch 69/80\n",
      "19/19 [==============================] - 8s 436ms/step - loss: 0.8819 - acc: 0.6842 - val_loss: 0.8992 - val_acc: 0.6612\n",
      "Epoch 70/80\n",
      "19/19 [==============================] - 8s 407ms/step - loss: 0.9162 - acc: 0.6441 - val_loss: 0.8708 - val_acc: 0.6941\n",
      "Epoch 71/80\n",
      "19/19 [==============================] - 8s 423ms/step - loss: 0.9122 - acc: 0.6416 - val_loss: 0.8200 - val_acc: 0.6957\n",
      "Epoch 72/80\n",
      "19/19 [==============================] - 8s 435ms/step - loss: 0.9003 - acc: 0.6480 - val_loss: 0.8507 - val_acc: 0.7007\n",
      "Epoch 73/80\n",
      "19/19 [==============================] - 8s 413ms/step - loss: 0.8995 - acc: 0.6573 - val_loss: 0.8747 - val_acc: 0.6546\n",
      "Epoch 74/80\n",
      "19/19 [==============================] - 8s 421ms/step - loss: 0.8535 - acc: 0.6645 - val_loss: 0.8691 - val_acc: 0.6743\n",
      "Epoch 75/80\n",
      "19/19 [==============================] - 8s 421ms/step - loss: 0.8448 - acc: 0.6746 - val_loss: 0.8095 - val_acc: 0.6727\n",
      "Epoch 76/80\n",
      "19/19 [==============================] - 8s 432ms/step - loss: 0.8624 - acc: 0.6763 - val_loss: 0.8336 - val_acc: 0.7007\n",
      "Epoch 77/80\n",
      "19/19 [==============================] - 8s 436ms/step - loss: 0.8157 - acc: 0.7153 - val_loss: 0.8179 - val_acc: 0.7385\n",
      "Epoch 78/80\n",
      "19/19 [==============================] - 8s 421ms/step - loss: 0.8301 - acc: 0.6966 - val_loss: 0.8347 - val_acc: 0.6974\n",
      "Epoch 79/80\n",
      "19/19 [==============================] - 8s 442ms/step - loss: 0.8423 - acc: 0.6949 - val_loss: 0.8281 - val_acc: 0.6612\n",
      "Epoch 80/80\n",
      "19/19 [==============================] - 8s 411ms/step - loss: 0.8611 - acc: 0.6610 - val_loss: 0.8304 - val_acc: 0.7089\n"
     ]
    },
    {
     "data": {
      "text/plain": [
       "<tensorflow.python.keras.callbacks.History at 0x22e354e2da0>"
      ]
     },
     "execution_count": 11,
     "metadata": {},
     "output_type": "execute_result"
    }
   ],
   "source": [
    "model.fit_generator(x_train,steps_per_epoch=19,epochs=80,validation_data=x_test,validation_steps=19)"
   ]
  },
  {
   "cell_type": "code",
   "execution_count": 66,
   "metadata": {},
   "outputs": [],
   "source": [
    "from tensorflow.keras.models import load_model\n",
    "from tensorflow.keras.preprocessing import image\n",
    "import cv2\n",
    "import numpy as np"
   ]
  },
  {
   "cell_type": "code",
   "execution_count": 67,
   "metadata": {},
   "outputs": [],
   "source": [
    "index=[\"chair\",\"glass\",\"pen\",\"spoon\",\"umbrella\"]"
   ]
  },
  {
   "cell_type": "code",
   "execution_count": 79,
   "metadata": {},
   "outputs": [],
   "source": [
    "img=image.load_img(r\"C:\\spoon.jpg\",target_size=(64,64))"
   ]
  },
  {
   "cell_type": "code",
   "execution_count": 80,
   "metadata": {},
   "outputs": [
    {
     "data": {
      "text/plain": [
       "PIL.Image.Image"
      ]
     },
     "execution_count": 80,
     "metadata": {},
     "output_type": "execute_result"
    }
   ],
   "source": [
    "type(img)"
   ]
  },
  {
   "cell_type": "code",
   "execution_count": 81,
   "metadata": {},
   "outputs": [],
   "source": [
    "x=image.img_to_array(img)"
   ]
  },
  {
   "cell_type": "code",
   "execution_count": 82,
   "metadata": {},
   "outputs": [
    {
     "data": {
      "text/plain": [
       "numpy.ndarray"
      ]
     },
     "execution_count": 82,
     "metadata": {},
     "output_type": "execute_result"
    }
   ],
   "source": [
    "type(x)"
   ]
  },
  {
   "cell_type": "code",
   "execution_count": 83,
   "metadata": {},
   "outputs": [
    {
     "data": {
      "text/plain": [
       "(64, 64, 3)"
      ]
     },
     "execution_count": 83,
     "metadata": {},
     "output_type": "execute_result"
    }
   ],
   "source": [
    "x.shape"
   ]
  },
  {
   "cell_type": "code",
   "execution_count": 84,
   "metadata": {},
   "outputs": [],
   "source": [
    "x=np.expand_dims(x,axis=0)"
   ]
  },
  {
   "cell_type": "code",
   "execution_count": 85,
   "metadata": {},
   "outputs": [
    {
     "data": {
      "text/plain": [
       "(1, 64, 64, 3)"
      ]
     },
     "execution_count": 85,
     "metadata": {},
     "output_type": "execute_result"
    }
   ],
   "source": [
    "x.shape"
   ]
  },
  {
   "cell_type": "code",
   "execution_count": 86,
   "metadata": {},
   "outputs": [],
   "source": [
    "pred=model.predict_classes(x)"
   ]
  },
  {
   "cell_type": "code",
   "execution_count": 76,
   "metadata": {},
   "outputs": [
    {
     "data": {
      "text/plain": [
       "array([3], dtype=int64)"
      ]
     },
     "execution_count": 76,
     "metadata": {},
     "output_type": "execute_result"
    }
   ],
   "source": [
    "pred"
   ]
  },
  {
   "cell_type": "code",
   "execution_count": 87,
   "metadata": {},
   "outputs": [
    {
     "name": "stdout",
     "output_type": "stream",
     "text": [
      "spoon\n"
     ]
    }
   ],
   "source": [
    "print(index[3])"
   ]
  },
  {
   "cell_type": "code",
   "execution_count": null,
   "metadata": {},
   "outputs": [],
   "source": []
  }
 ],
 "metadata": {
  "kernelspec": {
   "display_name": "Python 3",
   "language": "python",
   "name": "python3"
  },
  "language_info": {
   "codemirror_mode": {
    "name": "ipython",
    "version": 3
   },
   "file_extension": ".py",
   "mimetype": "text/x-python",
   "name": "python",
   "nbconvert_exporter": "python",
   "pygments_lexer": "ipython3",
   "version": "3.7.3"
  }
 },
 "nbformat": 4,
 "nbformat_minor": 2
}
