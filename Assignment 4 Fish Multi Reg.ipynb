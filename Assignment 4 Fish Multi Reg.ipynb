{
 "cells": [
  {
   "cell_type": "code",
   "execution_count": 1,
   "metadata": {},
   "outputs": [],
   "source": [
    "import numpy as np\n",
    "import pandas as pd"
   ]
  },
  {
   "cell_type": "code",
   "execution_count": 3,
   "metadata": {},
   "outputs": [],
   "source": [
    "data=pd.read_csv(r\"C:\\5_6136515016142095058.csv\")"
   ]
  },
  {
   "cell_type": "code",
   "execution_count": 4,
   "metadata": {},
   "outputs": [
    {
     "data": {
      "text/html": [
       "<div>\n",
       "<style scoped>\n",
       "    .dataframe tbody tr th:only-of-type {\n",
       "        vertical-align: middle;\n",
       "    }\n",
       "\n",
       "    .dataframe tbody tr th {\n",
       "        vertical-align: top;\n",
       "    }\n",
       "\n",
       "    .dataframe thead th {\n",
       "        text-align: right;\n",
       "    }\n",
       "</style>\n",
       "<table border=\"1\" class=\"dataframe\">\n",
       "  <thead>\n",
       "    <tr style=\"text-align: right;\">\n",
       "      <th></th>\n",
       "      <th>Species</th>\n",
       "      <th>Weight</th>\n",
       "      <th>Length1</th>\n",
       "      <th>Length2</th>\n",
       "      <th>Length3</th>\n",
       "      <th>Height</th>\n",
       "      <th>Width</th>\n",
       "    </tr>\n",
       "  </thead>\n",
       "  <tbody>\n",
       "    <tr>\n",
       "      <th>0</th>\n",
       "      <td>Bream</td>\n",
       "      <td>242.0</td>\n",
       "      <td>23.2</td>\n",
       "      <td>25.4</td>\n",
       "      <td>30.0</td>\n",
       "      <td>11.5200</td>\n",
       "      <td>4.0200</td>\n",
       "    </tr>\n",
       "    <tr>\n",
       "      <th>1</th>\n",
       "      <td>Bream</td>\n",
       "      <td>290.0</td>\n",
       "      <td>24.0</td>\n",
       "      <td>26.3</td>\n",
       "      <td>31.2</td>\n",
       "      <td>12.4800</td>\n",
       "      <td>4.3056</td>\n",
       "    </tr>\n",
       "    <tr>\n",
       "      <th>2</th>\n",
       "      <td>Bream</td>\n",
       "      <td>340.0</td>\n",
       "      <td>23.9</td>\n",
       "      <td>26.5</td>\n",
       "      <td>31.1</td>\n",
       "      <td>12.3778</td>\n",
       "      <td>4.6961</td>\n",
       "    </tr>\n",
       "    <tr>\n",
       "      <th>3</th>\n",
       "      <td>Bream</td>\n",
       "      <td>363.0</td>\n",
       "      <td>26.3</td>\n",
       "      <td>29.0</td>\n",
       "      <td>33.5</td>\n",
       "      <td>12.7300</td>\n",
       "      <td>4.4555</td>\n",
       "    </tr>\n",
       "    <tr>\n",
       "      <th>4</th>\n",
       "      <td>Bream</td>\n",
       "      <td>430.0</td>\n",
       "      <td>26.5</td>\n",
       "      <td>29.0</td>\n",
       "      <td>34.0</td>\n",
       "      <td>12.4440</td>\n",
       "      <td>5.1340</td>\n",
       "    </tr>\n",
       "  </tbody>\n",
       "</table>\n",
       "</div>"
      ],
      "text/plain": [
       "  Species  Weight  Length1  Length2  Length3   Height   Width\n",
       "0   Bream   242.0     23.2     25.4     30.0  11.5200  4.0200\n",
       "1   Bream   290.0     24.0     26.3     31.2  12.4800  4.3056\n",
       "2   Bream   340.0     23.9     26.5     31.1  12.3778  4.6961\n",
       "3   Bream   363.0     26.3     29.0     33.5  12.7300  4.4555\n",
       "4   Bream   430.0     26.5     29.0     34.0  12.4440  5.1340"
      ]
     },
     "execution_count": 4,
     "metadata": {},
     "output_type": "execute_result"
    }
   ],
   "source": [
    "data.head()"
   ]
  },
  {
   "cell_type": "code",
   "execution_count": 5,
   "metadata": {},
   "outputs": [
    {
     "data": {
      "text/plain": [
       "Species    0\n",
       "Weight     0\n",
       "Length1    0\n",
       "Length2    0\n",
       "Length3    0\n",
       "Height     0\n",
       "Width      0\n",
       "dtype: int64"
      ]
     },
     "execution_count": 5,
     "metadata": {},
     "output_type": "execute_result"
    }
   ],
   "source": [
    "data.isnull().sum()"
   ]
  },
  {
   "cell_type": "code",
   "execution_count": 6,
   "metadata": {},
   "outputs": [
    {
     "name": "stdout",
     "output_type": "stream",
     "text": [
      "<class 'pandas.core.frame.DataFrame'>\n",
      "RangeIndex: 159 entries, 0 to 158\n",
      "Data columns (total 7 columns):\n",
      "Species    159 non-null object\n",
      "Weight     159 non-null float64\n",
      "Length1    159 non-null float64\n",
      "Length2    159 non-null float64\n",
      "Length3    159 non-null float64\n",
      "Height     159 non-null float64\n",
      "Width      159 non-null float64\n",
      "dtypes: float64(6), object(1)\n",
      "memory usage: 8.8+ KB\n"
     ]
    }
   ],
   "source": [
    "data.info()"
   ]
  },
  {
   "cell_type": "code",
   "execution_count": 7,
   "metadata": {},
   "outputs": [
    {
     "data": {
      "text/html": [
       "<div>\n",
       "<style scoped>\n",
       "    .dataframe tbody tr th:only-of-type {\n",
       "        vertical-align: middle;\n",
       "    }\n",
       "\n",
       "    .dataframe tbody tr th {\n",
       "        vertical-align: top;\n",
       "    }\n",
       "\n",
       "    .dataframe thead th {\n",
       "        text-align: right;\n",
       "    }\n",
       "</style>\n",
       "<table border=\"1\" class=\"dataframe\">\n",
       "  <thead>\n",
       "    <tr style=\"text-align: right;\">\n",
       "      <th></th>\n",
       "      <th>Species</th>\n",
       "      <th>Weight</th>\n",
       "      <th>Length1</th>\n",
       "      <th>Length2</th>\n",
       "      <th>Length3</th>\n",
       "      <th>Height</th>\n",
       "      <th>Width</th>\n",
       "    </tr>\n",
       "  </thead>\n",
       "  <tbody>\n",
       "    <tr>\n",
       "      <th>0</th>\n",
       "      <td>Bream</td>\n",
       "      <td>242.0</td>\n",
       "      <td>23.2</td>\n",
       "      <td>25.4</td>\n",
       "      <td>30.0</td>\n",
       "      <td>11.5200</td>\n",
       "      <td>4.0200</td>\n",
       "    </tr>\n",
       "    <tr>\n",
       "      <th>1</th>\n",
       "      <td>Bream</td>\n",
       "      <td>290.0</td>\n",
       "      <td>24.0</td>\n",
       "      <td>26.3</td>\n",
       "      <td>31.2</td>\n",
       "      <td>12.4800</td>\n",
       "      <td>4.3056</td>\n",
       "    </tr>\n",
       "    <tr>\n",
       "      <th>2</th>\n",
       "      <td>Bream</td>\n",
       "      <td>340.0</td>\n",
       "      <td>23.9</td>\n",
       "      <td>26.5</td>\n",
       "      <td>31.1</td>\n",
       "      <td>12.3778</td>\n",
       "      <td>4.6961</td>\n",
       "    </tr>\n",
       "    <tr>\n",
       "      <th>3</th>\n",
       "      <td>Bream</td>\n",
       "      <td>363.0</td>\n",
       "      <td>26.3</td>\n",
       "      <td>29.0</td>\n",
       "      <td>33.5</td>\n",
       "      <td>12.7300</td>\n",
       "      <td>4.4555</td>\n",
       "    </tr>\n",
       "    <tr>\n",
       "      <th>4</th>\n",
       "      <td>Bream</td>\n",
       "      <td>430.0</td>\n",
       "      <td>26.5</td>\n",
       "      <td>29.0</td>\n",
       "      <td>34.0</td>\n",
       "      <td>12.4440</td>\n",
       "      <td>5.1340</td>\n",
       "    </tr>\n",
       "  </tbody>\n",
       "</table>\n",
       "</div>"
      ],
      "text/plain": [
       "  Species  Weight  Length1  Length2  Length3   Height   Width\n",
       "0   Bream   242.0     23.2     25.4     30.0  11.5200  4.0200\n",
       "1   Bream   290.0     24.0     26.3     31.2  12.4800  4.3056\n",
       "2   Bream   340.0     23.9     26.5     31.1  12.3778  4.6961\n",
       "3   Bream   363.0     26.3     29.0     33.5  12.7300  4.4555\n",
       "4   Bream   430.0     26.5     29.0     34.0  12.4440  5.1340"
      ]
     },
     "execution_count": 7,
     "metadata": {},
     "output_type": "execute_result"
    }
   ],
   "source": [
    "data.head()"
   ]
  },
  {
   "cell_type": "code",
   "execution_count": 8,
   "metadata": {},
   "outputs": [
    {
     "data": {
      "text/plain": [
       "(159, 7)"
      ]
     },
     "execution_count": 8,
     "metadata": {},
     "output_type": "execute_result"
    }
   ],
   "source": [
    "data.shape"
   ]
  },
  {
   "cell_type": "code",
   "execution_count": 9,
   "metadata": {},
   "outputs": [
    {
     "data": {
      "text/plain": [
       "array(['Bream', 'Roach', 'Whitefish', 'Parkki', 'Perch', 'Pike', 'Smelt'],\n",
       "      dtype=object)"
      ]
     },
     "execution_count": 9,
     "metadata": {},
     "output_type": "execute_result"
    }
   ],
   "source": [
    "data.Species.unique()"
   ]
  },
  {
   "cell_type": "code",
   "execution_count": 10,
   "metadata": {},
   "outputs": [],
   "source": [
    "x=data.iloc[:,[0,2,3,4,5,6]].values\n",
    "y=data.iloc[:,1].values"
   ]
  },
  {
   "cell_type": "code",
   "execution_count": 11,
   "metadata": {},
   "outputs": [
    {
     "data": {
      "text/plain": [
       "array([['Bream', 23.2, 25.4, 30.0, 11.52, 4.02],\n",
       "       ['Bream', 24.0, 26.3, 31.2, 12.48, 4.3056],\n",
       "       ['Bream', 23.9, 26.5, 31.1, 12.3778, 4.6961],\n",
       "       ['Bream', 26.3, 29.0, 33.5, 12.73, 4.4555],\n",
       "       ['Bream', 26.5, 29.0, 34.0, 12.444, 5.1339999999999995],\n",
       "       ['Bream', 26.8, 29.7, 34.7, 13.6024, 4.9274],\n",
       "       ['Bream', 26.8, 29.7, 34.5, 14.1795, 5.2785],\n",
       "       ['Bream', 27.6, 30.0, 35.0, 12.67, 4.69],\n",
       "       ['Bream', 27.6, 30.0, 35.1, 14.0049, 4.8438],\n",
       "       ['Bream', 28.5, 30.7, 36.2, 14.2266, 4.9594],\n",
       "       ['Bream', 28.4, 31.0, 36.2, 14.2628, 5.1042],\n",
       "       ['Bream', 28.7, 31.0, 36.2, 14.3714, 4.8146],\n",
       "       ['Bream', 29.1, 31.5, 36.4, 13.7592, 4.368],\n",
       "       ['Bream', 29.5, 32.0, 37.3, 13.9129, 5.0728],\n",
       "       ['Bream', 29.4, 32.0, 37.2, 14.9544, 5.1708],\n",
       "       ['Bream', 29.4, 32.0, 37.2, 15.437999999999999, 5.58],\n",
       "       ['Bream', 30.4, 33.0, 38.3, 14.8604, 5.2854],\n",
       "       ['Bream', 30.4, 33.0, 38.5, 14.937999999999999, 5.1975],\n",
       "       ['Bream', 30.9, 33.5, 38.6, 15.633, 5.1338],\n",
       "       ['Bream', 31.0, 33.5, 38.7, 14.4738, 5.7276],\n",
       "       ['Bream', 31.3, 34.0, 39.5, 15.1285, 5.5695],\n",
       "       ['Bream', 31.4, 34.0, 39.2, 15.9936, 5.3704],\n",
       "       ['Bream', 31.5, 34.5, 39.7, 15.5227, 5.2801],\n",
       "       ['Bream', 31.8, 35.0, 40.6, 15.4686, 6.1306],\n",
       "       ['Bream', 31.9, 35.0, 40.5, 16.2405, 5.5889999999999995],\n",
       "       ['Bream', 31.8, 35.0, 40.9, 16.36, 6.0532],\n",
       "       ['Bream', 32.0, 35.0, 40.6, 16.3618, 6.09],\n",
       "       ['Bream', 32.7, 36.0, 41.5, 16.517, 5.8515],\n",
       "       ['Bream', 32.8, 36.0, 41.6, 16.8896, 6.1984],\n",
       "       ['Bream', 33.5, 37.0, 42.6, 18.957, 6.603],\n",
       "       ['Bream', 35.0, 38.5, 44.1, 18.0369, 6.3063],\n",
       "       ['Bream', 35.0, 38.5, 44.0, 18.084, 6.292000000000001],\n",
       "       ['Bream', 36.2, 39.5, 45.3, 18.7542, 6.7497],\n",
       "       ['Bream', 37.4, 41.0, 45.9, 18.6354, 6.7473],\n",
       "       ['Bream', 38.0, 41.0, 46.5, 17.6235, 6.3705],\n",
       "       ['Roach', 12.9, 14.1, 16.2, 4.1472, 2.2680000000000002],\n",
       "       ['Roach', 16.5, 18.2, 20.3, 5.2983, 2.8217],\n",
       "       ['Roach', 17.5, 18.8, 21.2, 5.5756, 2.9044],\n",
       "       ['Roach', 18.2, 19.8, 22.2, 5.6166, 3.1746],\n",
       "       ['Roach', 18.6, 20.0, 22.2, 6.216, 3.5742],\n",
       "       ['Roach', 19.0, 20.5, 22.8, 6.4752, 3.3516],\n",
       "       ['Roach', 19.1, 20.8, 23.1, 6.1677, 3.3957],\n",
       "       ['Roach', 19.4, 21.0, 23.7, 6.1146, 3.2943],\n",
       "       ['Roach', 20.4, 22.0, 24.7, 5.8045, 3.7544],\n",
       "       ['Roach', 20.5, 22.0, 24.3, 6.6339, 3.5478],\n",
       "       ['Roach', 20.5, 22.5, 25.3, 7.0334, 3.8203],\n",
       "       ['Roach', 21.0, 22.5, 25.0, 6.55, 3.325],\n",
       "       ['Roach', 21.1, 22.5, 25.0, 6.4, 3.8],\n",
       "       ['Roach', 22.0, 24.0, 27.2, 7.5344, 3.8352],\n",
       "       ['Roach', 22.0, 23.4, 26.7, 6.9153, 3.6312],\n",
       "       ['Roach', 22.1, 23.5, 26.8, 7.3968, 4.1272],\n",
       "       ['Roach', 23.6, 25.2, 27.9, 7.0866, 3.906],\n",
       "       ['Roach', 24.0, 26.0, 29.2, 8.8768, 4.4968],\n",
       "       ['Roach', 25.0, 27.0, 30.6, 8.568, 4.7736],\n",
       "       ['Roach', 29.5, 31.7, 35.0, 9.485, 5.355],\n",
       "       ['Whitefish', 23.6, 26.0, 28.7, 8.3804, 4.2476],\n",
       "       ['Whitefish', 24.1, 26.5, 29.3, 8.1454, 4.2485],\n",
       "       ['Whitefish', 25.6, 28.0, 30.8, 8.777999999999999, 4.6816],\n",
       "       ['Whitefish', 28.5, 31.0, 34.0, 10.744000000000002, 6.562],\n",
       "       ['Whitefish', 33.7, 36.4, 39.6, 11.7612, 6.5736],\n",
       "       ['Whitefish', 37.3, 40.0, 43.5, 12.354000000000001, 6.525],\n",
       "       ['Parkki', 13.5, 14.7, 16.5, 6.8475, 2.3265],\n",
       "       ['Parkki', 14.3, 15.5, 17.4, 6.5772, 2.3142],\n",
       "       ['Parkki', 16.3, 17.7, 19.8, 7.4052, 2.673],\n",
       "       ['Parkki', 17.5, 19.0, 21.3, 8.3922, 2.9181],\n",
       "       ['Parkki', 18.4, 20.0, 22.4, 8.8928, 3.2928],\n",
       "       ['Parkki', 19.0, 20.7, 23.2, 8.5376, 3.2944],\n",
       "       ['Parkki', 19.0, 20.7, 23.2, 9.396, 3.4104],\n",
       "       ['Parkki', 19.8, 21.5, 24.1, 9.7364, 3.1571],\n",
       "       ['Parkki', 21.2, 23.0, 25.8, 10.3458, 3.6636],\n",
       "       ['Parkki', 23.0, 25.0, 28.0, 11.088, 4.144],\n",
       "       ['Parkki', 24.0, 26.0, 29.0, 11.368, 4.234],\n",
       "       ['Perch', 7.5, 8.4, 8.8, 2.112, 1.4080000000000001],\n",
       "       ['Perch', 12.5, 13.7, 14.7, 3.528, 1.9992],\n",
       "       ['Perch', 13.8, 15.0, 16.0, 3.824, 2.432],\n",
       "       ['Perch', 15.0, 16.2, 17.2, 4.5924, 2.6316],\n",
       "       ['Perch', 15.7, 17.4, 18.5, 4.588, 2.9415],\n",
       "       ['Perch', 16.2, 18.0, 19.2, 5.2224, 3.3216],\n",
       "       ['Perch', 16.8, 18.7, 19.4, 5.1992, 3.1234],\n",
       "       ['Perch', 17.2, 19.0, 20.2, 5.6358, 3.0502],\n",
       "       ['Perch', 17.8, 19.6, 20.8, 5.1376, 3.0368],\n",
       "       ['Perch', 18.2, 20.0, 21.0, 5.082, 2.772],\n",
       "       ['Perch', 19.0, 21.0, 22.5, 5.6925, 3.555],\n",
       "       ['Perch', 19.0, 21.0, 22.5, 5.9175, 3.3075],\n",
       "       ['Perch', 19.0, 21.0, 22.5, 5.6925, 3.6675],\n",
       "       ['Perch', 19.3, 21.3, 22.8, 6.3839999999999995, 3.534],\n",
       "       ['Perch', 20.0, 22.0, 23.5, 6.11, 3.4075],\n",
       "       ['Perch', 20.0, 22.0, 23.5, 5.64, 3.525],\n",
       "       ['Perch', 20.0, 22.0, 23.5, 6.11, 3.525],\n",
       "       ['Perch', 20.0, 22.0, 23.5, 5.875, 3.525],\n",
       "       ['Perch', 20.0, 22.0, 23.5, 5.5225, 3.995],\n",
       "       ['Perch', 20.5, 22.5, 24.0, 5.856, 3.6239999999999997],\n",
       "       ['Perch', 20.5, 22.5, 24.0, 6.792000000000001, 3.6239999999999997],\n",
       "       ['Perch', 20.7, 22.7, 24.2, 5.9532, 3.63],\n",
       "       ['Perch', 21.0, 23.0, 24.5, 5.2185, 3.6260000000000003],\n",
       "       ['Perch', 21.5, 23.5, 25.0, 6.275, 3.725],\n",
       "       ['Perch', 22.0, 24.0, 25.5, 7.292999999999999, 3.7230000000000003],\n",
       "       ['Perch', 22.0, 24.0, 25.5, 6.375, 3.825],\n",
       "       ['Perch', 22.6, 24.6, 26.2, 6.7334, 4.1658],\n",
       "       ['Perch', 23.0, 25.0, 26.5, 6.4395, 3.6835],\n",
       "       ['Perch', 23.5, 25.6, 27.0, 6.561, 4.239],\n",
       "       ['Perch', 25.0, 26.5, 28.0, 7.167999999999999, 4.144],\n",
       "       ['Perch', 25.2, 27.3, 28.7, 8.323, 5.1373],\n",
       "       ['Perch', 25.4, 27.5, 28.9, 7.1672, 4.335],\n",
       "       ['Perch', 25.4, 27.5, 28.9, 7.0516, 4.335],\n",
       "       ['Perch', 25.4, 27.5, 28.9, 7.2828, 4.5662],\n",
       "       ['Perch', 25.9, 28.0, 29.4, 7.8204, 4.2042],\n",
       "       ['Perch', 26.9, 28.7, 30.1, 7.5852, 4.6354],\n",
       "       ['Perch', 27.8, 30.0, 31.6, 7.6156, 4.7716],\n",
       "       ['Perch', 30.5, 32.8, 34.0, 10.03, 6.018],\n",
       "       ['Perch', 32.0, 34.5, 36.5, 10.2565, 6.3875],\n",
       "       ['Perch', 32.5, 35.0, 37.3, 11.4884, 7.7957],\n",
       "       ['Perch', 34.0, 36.5, 39.0, 10.880999999999998, 6.864],\n",
       "       ['Perch', 34.0, 36.0, 38.3, 10.6091, 6.7408],\n",
       "       ['Perch', 34.5, 37.0, 39.4, 10.835, 6.2646],\n",
       "       ['Perch', 34.6, 37.0, 39.3, 10.5717, 6.3666],\n",
       "       ['Perch', 36.5, 39.0, 41.4, 11.1366, 7.4934],\n",
       "       ['Perch', 36.5, 39.0, 41.4, 11.1366, 6.002999999999999],\n",
       "       ['Perch', 36.6, 39.0, 41.3, 12.4313, 7.3514],\n",
       "       ['Perch', 36.9, 40.0, 42.3, 11.9286, 7.1064],\n",
       "       ['Perch', 37.0, 40.0, 42.5, 11.73, 7.225],\n",
       "       ['Perch', 37.0, 40.0, 42.4, 12.3808, 7.4624],\n",
       "       ['Perch', 37.1, 40.0, 42.5, 11.135, 6.63],\n",
       "       ['Perch', 39.0, 42.0, 44.6, 12.8002, 6.8684],\n",
       "       ['Perch', 39.8, 43.0, 45.2, 11.9328, 7.2772],\n",
       "       ['Perch', 40.1, 43.0, 45.5, 12.5125, 7.4165],\n",
       "       ['Perch', 40.2, 43.5, 46.0, 12.604000000000001, 8.142000000000001],\n",
       "       ['Perch', 41.1, 44.0, 46.6, 12.4888, 7.5958],\n",
       "       ['Pike', 30.0, 32.3, 34.8, 5.568, 3.3756],\n",
       "       ['Pike', 31.7, 34.0, 37.8, 5.7078, 4.158],\n",
       "       ['Pike', 32.7, 35.0, 38.8, 5.9364, 4.3844],\n",
       "       ['Pike', 34.8, 37.3, 39.8, 6.2884, 4.0198],\n",
       "       ['Pike', 35.5, 38.0, 40.5, 7.29, 4.5765],\n",
       "       ['Pike', 36.0, 38.5, 41.0, 6.396, 3.977],\n",
       "       ['Pike', 40.0, 42.5, 45.5, 7.28, 4.3225],\n",
       "       ['Pike', 40.0, 42.5, 45.5, 6.825, 4.459],\n",
       "       ['Pike', 40.1, 43.0, 45.8, 7.7860000000000005, 5.1296],\n",
       "       ['Pike', 42.0, 45.0, 48.0, 6.96, 4.896],\n",
       "       ['Pike', 43.2, 46.0, 48.7, 7.792000000000001, 4.87],\n",
       "       ['Pike', 44.8, 48.0, 51.2, 7.68, 5.376],\n",
       "       ['Pike', 48.3, 51.7, 55.1, 8.9262, 6.1712],\n",
       "       ['Pike', 52.0, 56.0, 59.7, 10.6863, 6.9849],\n",
       "       ['Pike', 56.0, 60.0, 64.0, 9.6, 6.144],\n",
       "       ['Pike', 56.0, 60.0, 64.0, 9.6, 6.144],\n",
       "       ['Pike', 59.0, 63.4, 68.0, 10.812000000000001, 7.48],\n",
       "       ['Smelt', 9.3, 9.8, 10.8, 1.7388, 1.0476],\n",
       "       ['Smelt', 10.0, 10.5, 11.6, 1.972, 1.16],\n",
       "       ['Smelt', 10.1, 10.6, 11.6, 1.7284, 1.1484],\n",
       "       ['Smelt', 10.4, 11.0, 12.0, 2.1959999999999997, 1.38],\n",
       "       ['Smelt', 10.7, 11.2, 12.4, 2.0832, 1.2772],\n",
       "       ['Smelt', 10.8, 11.3, 12.6, 1.9782, 1.2852],\n",
       "       ['Smelt', 11.3, 11.8, 13.1, 2.2139, 1.2838],\n",
       "       ['Smelt', 11.3, 11.8, 13.1, 2.2139, 1.1659],\n",
       "       ['Smelt', 11.4, 12.0, 13.2, 2.2044, 1.1484],\n",
       "       ['Smelt', 11.5, 12.2, 13.4, 2.0904, 1.3936],\n",
       "       ['Smelt', 11.7, 12.4, 13.5, 2.43, 1.2690000000000001],\n",
       "       ['Smelt', 12.1, 13.0, 13.8, 2.2769999999999997, 1.2558],\n",
       "       ['Smelt', 13.2, 14.3, 15.2, 2.8728, 2.0672],\n",
       "       ['Smelt', 13.8, 15.0, 16.2, 2.9322, 1.8792]], dtype=object)"
      ]
     },
     "execution_count": 11,
     "metadata": {},
     "output_type": "execute_result"
    }
   ],
   "source": [
    "x"
   ]
  },
  {
   "cell_type": "code",
   "execution_count": 12,
   "metadata": {},
   "outputs": [
    {
     "data": {
      "text/plain": [
       "array([ 242. ,  290. ,  340. ,  363. ,  430. ,  450. ,  500. ,  390. ,\n",
       "        450. ,  500. ,  475. ,  500. ,  500. ,  340. ,  600. ,  600. ,\n",
       "        700. ,  700. ,  610. ,  650. ,  575. ,  685. ,  620. ,  680. ,\n",
       "        700. ,  725. ,  720. ,  714. ,  850. , 1000. ,  920. ,  955. ,\n",
       "        925. ,  975. ,  950. ,   40. ,   69. ,   78. ,   87. ,  120. ,\n",
       "          0. ,  110. ,  120. ,  150. ,  145. ,  160. ,  140. ,  160. ,\n",
       "        169. ,  161. ,  200. ,  180. ,  290. ,  272. ,  390. ,  270. ,\n",
       "        270. ,  306. ,  540. ,  800. , 1000. ,   55. ,   60. ,   90. ,\n",
       "        120. ,  150. ,  140. ,  170. ,  145. ,  200. ,  273. ,  300. ,\n",
       "          5.9,   32. ,   40. ,   51.5,   70. ,  100. ,   78. ,   80. ,\n",
       "         85. ,   85. ,  110. ,  115. ,  125. ,  130. ,  120. ,  120. ,\n",
       "        130. ,  135. ,  110. ,  130. ,  150. ,  145. ,  150. ,  170. ,\n",
       "        225. ,  145. ,  188. ,  180. ,  197. ,  218. ,  300. ,  260. ,\n",
       "        265. ,  250. ,  250. ,  300. ,  320. ,  514. ,  556. ,  840. ,\n",
       "        685. ,  700. ,  700. ,  690. ,  900. ,  650. ,  820. ,  850. ,\n",
       "        900. , 1015. ,  820. , 1100. , 1000. , 1100. , 1000. , 1000. ,\n",
       "        200. ,  300. ,  300. ,  300. ,  430. ,  345. ,  456. ,  510. ,\n",
       "        540. ,  500. ,  567. ,  770. ,  950. , 1250. , 1600. , 1550. ,\n",
       "       1650. ,    6.7,    7.5,    7. ,    9.7,    9.8,    8.7,   10. ,\n",
       "          9.9,    9.8,   12.2,   13.4,   12.2,   19.7,   19.9])"
      ]
     },
     "execution_count": 12,
     "metadata": {},
     "output_type": "execute_result"
    }
   ],
   "source": [
    "y"
   ]
  },
  {
   "cell_type": "code",
   "execution_count": 13,
   "metadata": {},
   "outputs": [
    {
     "data": {
      "text/plain": [
       "(159, 6)"
      ]
     },
     "execution_count": 13,
     "metadata": {},
     "output_type": "execute_result"
    }
   ],
   "source": [
    "x.shape"
   ]
  },
  {
   "cell_type": "code",
   "execution_count": 14,
   "metadata": {},
   "outputs": [
    {
     "data": {
      "text/plain": [
       "(159,)"
      ]
     },
     "execution_count": 14,
     "metadata": {},
     "output_type": "execute_result"
    }
   ],
   "source": [
    "y.shape"
   ]
  },
  {
   "cell_type": "code",
   "execution_count": 15,
   "metadata": {},
   "outputs": [],
   "source": [
    "from sklearn.preprocessing import OneHotEncoder\n",
    "from sklearn.compose import ColumnTransformer\n",
    "ct=ColumnTransformer([(\"oh\",OneHotEncoder(),[0])],remainder=\"passthrough\")\n",
    "x=ct.fit_transform(x)"
   ]
  },
  {
   "cell_type": "code",
   "execution_count": 16,
   "metadata": {},
   "outputs": [
    {
     "data": {
      "text/plain": [
       "array([[1.0, 0.0, 0.0, ..., 30.0, 11.52, 4.02],\n",
       "       [1.0, 0.0, 0.0, ..., 31.2, 12.48, 4.3056],\n",
       "       [1.0, 0.0, 0.0, ..., 31.1, 12.3778, 4.6961],\n",
       "       ...,\n",
       "       [0.0, 0.0, 0.0, ..., 13.8, 2.2769999999999997, 1.2558],\n",
       "       [0.0, 0.0, 0.0, ..., 15.2, 2.8728, 2.0672],\n",
       "       [0.0, 0.0, 0.0, ..., 16.2, 2.9322, 1.8792]], dtype=object)"
      ]
     },
     "execution_count": 16,
     "metadata": {},
     "output_type": "execute_result"
    }
   ],
   "source": [
    "x"
   ]
  },
  {
   "cell_type": "code",
   "execution_count": 17,
   "metadata": {},
   "outputs": [
    {
     "data": {
      "text/plain": [
       "(159, 12)"
      ]
     },
     "execution_count": 17,
     "metadata": {},
     "output_type": "execute_result"
    }
   ],
   "source": [
    "x.shape"
   ]
  },
  {
   "cell_type": "code",
   "execution_count": 18,
   "metadata": {},
   "outputs": [],
   "source": [
    "from sklearn.model_selection import train_test_split\n",
    "x_train,x_test,y_train,y_test=train_test_split(x,y,test_size=0.2,random_state=0)"
   ]
  },
  {
   "cell_type": "code",
   "execution_count": 19,
   "metadata": {},
   "outputs": [
    {
     "data": {
      "text/plain": [
       "LinearRegression(copy_X=True, fit_intercept=True, n_jobs=None, normalize=False)"
      ]
     },
     "execution_count": 19,
     "metadata": {},
     "output_type": "execute_result"
    }
   ],
   "source": [
    "from sklearn.linear_model import LinearRegression\n",
    "mlr=LinearRegression()\n",
    "mlr.fit(x_train,y_train)"
   ]
  },
  {
   "cell_type": "code",
   "execution_count": 20,
   "metadata": {},
   "outputs": [],
   "source": [
    "ypred=mlr.predict(x_test)"
   ]
  },
  {
   "cell_type": "code",
   "execution_count": 21,
   "metadata": {},
   "outputs": [
    {
     "data": {
      "text/plain": [
       "array([ 428.88533577,   98.08363614,  216.67998922,  208.66936638,\n",
       "        657.24094116,  876.38855413,  665.97861965,  407.27203048,\n",
       "        965.65306863,  146.62291102,  255.15532231,  561.63685124,\n",
       "        765.67575361, 1012.38234027, -118.72798063,   14.47341216,\n",
       "        137.60789564, 1155.53572308,  170.97092949,  724.93548455,\n",
       "       -128.48675188,  525.45508599,  175.3519065 , 1322.74816983,\n",
       "        -23.0873263 ,  475.44172778,  719.96841977,  280.94571114,\n",
       "        885.12085107,  -16.63412226,  585.26038657,  164.22863371])"
      ]
     },
     "execution_count": 21,
     "metadata": {},
     "output_type": "execute_result"
    }
   ],
   "source": [
    "ypred"
   ]
  },
  {
   "cell_type": "code",
   "execution_count": 22,
   "metadata": {},
   "outputs": [
    {
     "data": {
      "text/plain": [
       "array([ 390. ,    0. ,  170. ,  160. ,  556. ,  900. ,  800. ,  300. ,\n",
       "        975. ,  115. ,  200. ,  456. , 1000. , 1000. ,   60. ,   78. ,\n",
       "        145. , 1600. ,  130. ,  720. ,   55. ,  390. ,  120. , 1650. ,\n",
       "         90. ,  450. ,  700. ,  270. ,  850. ,    9.7,  650. ,  110. ])"
      ]
     },
     "execution_count": 22,
     "metadata": {},
     "output_type": "execute_result"
    }
   ],
   "source": [
    "y_test"
   ]
  },
  {
   "cell_type": "code",
   "execution_count": 23,
   "metadata": {},
   "outputs": [
    {
     "data": {
      "text/plain": [
       "array([[1.0, 0.0, 0.0, 0.0, 0.0, 0.0, 0.0, 27.6, 30.0, 35.0, 12.67, 4.69],\n",
       "       [0.0, 0.0, 0.0, 0.0, 1.0, 0.0, 0.0, 19.0, 20.5, 22.8, 6.4752,\n",
       "        3.3516],\n",
       "       [0.0, 0.0, 1.0, 0.0, 0.0, 0.0, 0.0, 21.5, 23.5, 25.0, 6.275,\n",
       "        3.725],\n",
       "       [0.0, 0.0, 0.0, 0.0, 1.0, 0.0, 0.0, 20.5, 22.5, 25.3, 7.0334,\n",
       "        3.8203],\n",
       "       [0.0, 0.0, 1.0, 0.0, 0.0, 0.0, 0.0, 32.0, 34.5, 36.5, 10.2565,\n",
       "        6.3875],\n",
       "       [0.0, 0.0, 1.0, 0.0, 0.0, 0.0, 0.0, 37.0, 40.0, 42.5, 11.73,\n",
       "        7.225],\n",
       "       [0.0, 0.0, 0.0, 0.0, 0.0, 0.0, 1.0, 33.7, 36.4, 39.6, 11.7612,\n",
       "        6.5736],\n",
       "       [0.0, 0.0, 0.0, 1.0, 0.0, 0.0, 0.0, 34.8, 37.3, 39.8, 6.2884,\n",
       "        4.0198],\n",
       "       [1.0, 0.0, 0.0, 0.0, 0.0, 0.0, 0.0, 37.4, 41.0, 45.9, 18.6354,\n",
       "        6.7473],\n",
       "       [0.0, 0.0, 1.0, 0.0, 0.0, 0.0, 0.0, 19.0, 21.0, 22.5, 5.9175,\n",
       "        3.3075],\n",
       "       [0.0, 0.0, 0.0, 1.0, 0.0, 0.0, 0.0, 30.0, 32.3, 34.8, 5.568,\n",
       "        3.3756],\n",
       "       [0.0, 0.0, 0.0, 1.0, 0.0, 0.0, 0.0, 40.0, 42.5, 45.5, 7.28,\n",
       "        4.3225],\n",
       "       [0.0, 0.0, 0.0, 0.0, 0.0, 0.0, 1.0, 37.3, 40.0, 43.5,\n",
       "        12.354000000000001, 6.525],\n",
       "       [0.0, 0.0, 1.0, 0.0, 0.0, 0.0, 0.0, 40.2, 43.5, 46.0,\n",
       "        12.604000000000001, 8.142000000000001],\n",
       "       [0.0, 1.0, 0.0, 0.0, 0.0, 0.0, 0.0, 14.3, 15.5, 17.4, 6.5772,\n",
       "        2.3142],\n",
       "       [0.0, 0.0, 0.0, 0.0, 1.0, 0.0, 0.0, 17.5, 18.8, 21.2, 5.5756,\n",
       "        2.9044],\n",
       "       [0.0, 0.0, 0.0, 0.0, 1.0, 0.0, 0.0, 20.5, 22.0, 24.3, 6.6339,\n",
       "        3.5478],\n",
       "       [0.0, 0.0, 0.0, 1.0, 0.0, 0.0, 0.0, 56.0, 60.0, 64.0, 9.6, 6.144],\n",
       "       [0.0, 0.0, 1.0, 0.0, 0.0, 0.0, 0.0, 19.3, 21.3, 22.8,\n",
       "        6.3839999999999995, 3.534],\n",
       "       [1.0, 0.0, 0.0, 0.0, 0.0, 0.0, 0.0, 32.0, 35.0, 40.6, 16.3618,\n",
       "        6.09],\n",
       "       [0.0, 1.0, 0.0, 0.0, 0.0, 0.0, 0.0, 13.5, 14.7, 16.5, 6.8475,\n",
       "        2.3265],\n",
       "       [0.0, 0.0, 0.0, 0.0, 1.0, 0.0, 0.0, 29.5, 31.7, 35.0, 9.485,\n",
       "        5.355],\n",
       "       [0.0, 0.0, 1.0, 0.0, 0.0, 0.0, 0.0, 20.0, 22.0, 23.5, 6.11,\n",
       "        3.4075],\n",
       "       [0.0, 0.0, 0.0, 1.0, 0.0, 0.0, 0.0, 59.0, 63.4, 68.0,\n",
       "        10.812000000000001, 7.48],\n",
       "       [0.0, 1.0, 0.0, 0.0, 0.0, 0.0, 0.0, 16.3, 17.7, 19.8, 7.4052,\n",
       "        2.673],\n",
       "       [1.0, 0.0, 0.0, 0.0, 0.0, 0.0, 0.0, 27.6, 30.0, 35.1, 14.0049,\n",
       "        4.8438],\n",
       "       [1.0, 0.0, 0.0, 0.0, 0.0, 0.0, 0.0, 31.9, 35.0, 40.5, 16.2405,\n",
       "        5.5889999999999995],\n",
       "       [0.0, 0.0, 0.0, 0.0, 0.0, 0.0, 1.0, 24.1, 26.5, 29.3, 8.1454,\n",
       "        4.2485],\n",
       "       [0.0, 0.0, 1.0, 0.0, 0.0, 0.0, 0.0, 36.9, 40.0, 42.3, 11.9286,\n",
       "        7.1064],\n",
       "       [0.0, 0.0, 0.0, 0.0, 0.0, 1.0, 0.0, 10.4, 11.0, 12.0,\n",
       "        2.1959999999999997, 1.38],\n",
       "       [1.0, 0.0, 0.0, 0.0, 0.0, 0.0, 0.0, 31.0, 33.5, 38.7, 14.4738,\n",
       "        5.7276],\n",
       "       [0.0, 0.0, 1.0, 0.0, 0.0, 0.0, 0.0, 20.0, 22.0, 23.5, 5.5225,\n",
       "        3.995]], dtype=object)"
      ]
     },
     "execution_count": 23,
     "metadata": {},
     "output_type": "execute_result"
    }
   ],
   "source": [
    "x_test"
   ]
  },
  {
   "cell_type": "code",
   "execution_count": 24,
   "metadata": {},
   "outputs": [],
   "source": [
    "from sklearn.metrics import r2_score\n",
    "accuracy=r2_score(ypred,y_test)"
   ]
  },
  {
   "cell_type": "code",
   "execution_count": 25,
   "metadata": {},
   "outputs": [
    {
     "data": {
      "text/plain": [
       "0.8813066271385555"
      ]
     },
     "execution_count": 25,
     "metadata": {},
     "output_type": "execute_result"
    }
   ],
   "source": [
    "accuracy"
   ]
  },
  {
   "cell_type": "code",
   "execution_count": 26,
   "metadata": {},
   "outputs": [
    {
     "data": {
      "text/html": [
       "<div>\n",
       "<style scoped>\n",
       "    .dataframe tbody tr th:only-of-type {\n",
       "        vertical-align: middle;\n",
       "    }\n",
       "\n",
       "    .dataframe tbody tr th {\n",
       "        vertical-align: top;\n",
       "    }\n",
       "\n",
       "    .dataframe thead th {\n",
       "        text-align: right;\n",
       "    }\n",
       "</style>\n",
       "<table border=\"1\" class=\"dataframe\">\n",
       "  <thead>\n",
       "    <tr style=\"text-align: right;\">\n",
       "      <th></th>\n",
       "      <th>Species</th>\n",
       "      <th>Weight</th>\n",
       "      <th>Length1</th>\n",
       "      <th>Length2</th>\n",
       "      <th>Length3</th>\n",
       "      <th>Height</th>\n",
       "      <th>Width</th>\n",
       "    </tr>\n",
       "  </thead>\n",
       "  <tbody>\n",
       "    <tr>\n",
       "      <th>0</th>\n",
       "      <td>Bream</td>\n",
       "      <td>242.0</td>\n",
       "      <td>23.2</td>\n",
       "      <td>25.4</td>\n",
       "      <td>30.0</td>\n",
       "      <td>11.5200</td>\n",
       "      <td>4.0200</td>\n",
       "    </tr>\n",
       "    <tr>\n",
       "      <th>1</th>\n",
       "      <td>Bream</td>\n",
       "      <td>290.0</td>\n",
       "      <td>24.0</td>\n",
       "      <td>26.3</td>\n",
       "      <td>31.2</td>\n",
       "      <td>12.4800</td>\n",
       "      <td>4.3056</td>\n",
       "    </tr>\n",
       "    <tr>\n",
       "      <th>2</th>\n",
       "      <td>Bream</td>\n",
       "      <td>340.0</td>\n",
       "      <td>23.9</td>\n",
       "      <td>26.5</td>\n",
       "      <td>31.1</td>\n",
       "      <td>12.3778</td>\n",
       "      <td>4.6961</td>\n",
       "    </tr>\n",
       "    <tr>\n",
       "      <th>3</th>\n",
       "      <td>Bream</td>\n",
       "      <td>363.0</td>\n",
       "      <td>26.3</td>\n",
       "      <td>29.0</td>\n",
       "      <td>33.5</td>\n",
       "      <td>12.7300</td>\n",
       "      <td>4.4555</td>\n",
       "    </tr>\n",
       "    <tr>\n",
       "      <th>4</th>\n",
       "      <td>Bream</td>\n",
       "      <td>430.0</td>\n",
       "      <td>26.5</td>\n",
       "      <td>29.0</td>\n",
       "      <td>34.0</td>\n",
       "      <td>12.4440</td>\n",
       "      <td>5.1340</td>\n",
       "    </tr>\n",
       "  </tbody>\n",
       "</table>\n",
       "</div>"
      ],
      "text/plain": [
       "  Species  Weight  Length1  Length2  Length3   Height   Width\n",
       "0   Bream   242.0     23.2     25.4     30.0  11.5200  4.0200\n",
       "1   Bream   290.0     24.0     26.3     31.2  12.4800  4.3056\n",
       "2   Bream   340.0     23.9     26.5     31.1  12.3778  4.6961\n",
       "3   Bream   363.0     26.3     29.0     33.5  12.7300  4.4555\n",
       "4   Bream   430.0     26.5     29.0     34.0  12.4440  5.1340"
      ]
     },
     "execution_count": 26,
     "metadata": {},
     "output_type": "execute_result"
    }
   ],
   "source": [
    "data.head()"
   ]
  },
  {
   "cell_type": "code",
   "execution_count": 27,
   "metadata": {},
   "outputs": [],
   "source": [
    "yp=mlr.predict(ct.transform([[\"Bream\",24.0,26.3,31.2,12.4800,4.3056]]))"
   ]
  },
  {
   "cell_type": "code",
   "execution_count": 28,
   "metadata": {},
   "outputs": [
    {
     "data": {
      "text/plain": [
       "array([330.3775134])"
      ]
     },
     "execution_count": 28,
     "metadata": {},
     "output_type": "execute_result"
    }
   ],
   "source": [
    "yp"
   ]
  },
  {
   "cell_type": "code",
   "execution_count": null,
   "metadata": {},
   "outputs": [],
   "source": []
  }
 ],
 "metadata": {
  "kernelspec": {
   "display_name": "Python 3",
   "language": "python",
   "name": "python3"
  },
  "language_info": {
   "codemirror_mode": {
    "name": "ipython",
    "version": 3
   },
   "file_extension": ".py",
   "mimetype": "text/x-python",
   "name": "python",
   "nbconvert_exporter": "python",
   "pygments_lexer": "ipython3",
   "version": "3.7.3"
  }
 },
 "nbformat": 4,
 "nbformat_minor": 2
}
