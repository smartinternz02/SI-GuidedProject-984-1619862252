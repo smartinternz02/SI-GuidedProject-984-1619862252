{
 "cells": [
  {
   "cell_type": "code",
   "execution_count": 1,
   "metadata": {},
   "outputs": [
    {
     "name": "stderr",
     "output_type": "stream",
     "text": [
      "Using TensorFlow backend.\n"
     ]
    }
   ],
   "source": [
    "import numpy as np\n",
    "import tensorflow \n",
    "from tensorflow.keras.models import Sequential \n",
    "from tensorflow.keras import layers \n",
    "\n",
    "from tensorflow.keras.layers import Dense,Flatten\n",
    "\n",
    "from tensorflow.keras.layers import Conv2D,MaxPooling2D \n",
    "from keras.preprocessing.image import ImageDataGenerator\n"
   ]
  },
  {
   "cell_type": "code",
   "execution_count": 2,
   "metadata": {},
   "outputs": [
    {
     "data": {
      "text/plain": [
       "'1.14.0'"
      ]
     },
     "execution_count": 2,
     "metadata": {},
     "output_type": "execute_result"
    }
   ],
   "source": [
    "tensorflow.__version__"
   ]
  },
  {
   "cell_type": "code",
   "execution_count": 3,
   "metadata": {},
   "outputs": [
    {
     "data": {
      "text/plain": [
       "'2.2.4-tf'"
      ]
     },
     "execution_count": 3,
     "metadata": {},
     "output_type": "execute_result"
    }
   ],
   "source": [
    "tensorflow.keras.__version__"
   ]
  },
  {
   "cell_type": "markdown",
   "metadata": {},
   "source": [
    "# image data argumentation"
   ]
  },
  {
   "cell_type": "code",
   "execution_count": 4,
   "metadata": {},
   "outputs": [],
   "source": [
    "train_datagen = ImageDataGenerator(rescale=1./255,shear_range=0.2,zoom_range=0.2,horizontal_flip=True)\n",
    "test_datagen=ImageDataGenerator(rescale=1./255)"
   ]
  },
  {
   "cell_type": "markdown",
   "metadata": {},
   "source": [
    "# Loading our data and performing data agumentation"
   ]
  },
  {
   "cell_type": "code",
   "execution_count": 5,
   "metadata": {},
   "outputs": [
    {
     "name": "stdout",
     "output_type": "stream",
     "text": [
      "Found 594 images belonging to 6 classes.\n",
      "Found 30 images belonging to 6 classes.\n"
     ]
    }
   ],
   "source": [
    "x_train = train_datagen.flow_from_directory(r\"C:\\Dataset\\train\",target_size = (64,64),batch_size = 5, color_mode='grayscale', class_mode = \"categorical\")\n",
    "x_test= test_datagen.flow_from_directory(r\"C:\\Dataset\\test\",target_size = (64,64),batch_size = 5, color_mode = 'grayscale',class_mode = \"categorical\" )"
   ]
  },
  {
   "cell_type": "code",
   "execution_count": 6,
   "metadata": {},
   "outputs": [
    {
     "name": "stdout",
     "output_type": "stream",
     "text": [
      "{'0': 0, '1': 1, '2': 2, '3': 3, '4': 4, '5': 5}\n"
     ]
    }
   ],
   "source": [
    "print(x_train.class_indices)"
   ]
  },
  {
   "cell_type": "code",
   "execution_count": 7,
   "metadata": {},
   "outputs": [
    {
     "name": "stdout",
     "output_type": "stream",
     "text": [
      "{'0': 0, '1': 1, '2': 2, '3': 3, '4': 4, '5': 5}\n"
     ]
    }
   ],
   "source": [
    "print(x_test.class_indices)"
   ]
  },
  {
   "cell_type": "code",
   "execution_count": 8,
   "metadata": {},
   "outputs": [
    {
     "data": {
      "text/plain": [
       "Counter({0: 99, 1: 99, 2: 99, 3: 99, 4: 99, 5: 99})"
      ]
     },
     "execution_count": 8,
     "metadata": {},
     "output_type": "execute_result"
    }
   ],
   "source": [
    "from collections import Counter as c\n",
    "c(x_train .labels)"
   ]
  },
  {
   "cell_type": "markdown",
   "metadata": {},
   "source": [
    "# creating the model\n",
    "# Adding CNN layers"
   ]
  },
  {
   "cell_type": "code",
   "execution_count": 9,
   "metadata": {},
   "outputs": [
    {
     "name": "stdout",
     "output_type": "stream",
     "text": [
      "WARNING:tensorflow:From C:\\Users\\manisha\\Anaconda3\\lib\\site-packages\\tensorflow\\python\\ops\\init_ops.py:1251: calling VarianceScaling.__init__ (from tensorflow.python.ops.init_ops) with dtype is deprecated and will be removed in a future version.\n",
      "Instructions for updating:\n",
      "Call initializer instance with the dtype argument instead of passing it to the constructor\n"
     ]
    }
   ],
   "source": [
    "# Initializing the CNN\n",
    "classifier = Sequential()\n",
    "\n",
    "# First convolution layer and pooling\n",
    "classifier.add(Conv2D(32, (3, 3), input_shape=(64, 64, 1), activation='relu'))\n",
    "classifier.add(MaxPooling2D(pool_size=(2, 2)))\n",
    "# Second convolution layer and pooling\n",
    "classifier.add(Conv2D(32, (3, 3), activation='relu'))\n",
    "# input_shape is going to be the pooled feature maps from the previous convolution layer\n",
    "classifier.add(MaxPooling2D(pool_size=(2, 2)))\n",
    "\n",
    "# Flattening the layers\n",
    "classifier.add(Flatten())\n",
    "\n",
    "\n"
   ]
  },
  {
   "cell_type": "markdown",
   "metadata": {},
   "source": [
    "# Adding dense layers"
   ]
  },
  {
   "cell_type": "code",
   "execution_count": 10,
   "metadata": {},
   "outputs": [],
   "source": [
    "# Adding a fully connected layer\n",
    "classifier.add(Dense(units=128, activation='relu'))\n",
    "classifier.add(Dense(units=6, activation='softmax')) # softmax for more than 2"
   ]
  },
  {
   "cell_type": "code",
   "execution_count": 11,
   "metadata": {},
   "outputs": [
    {
     "name": "stdout",
     "output_type": "stream",
     "text": [
      "Model: \"sequential\"\n",
      "_________________________________________________________________\n",
      "Layer (type)                 Output Shape              Param #   \n",
      "=================================================================\n",
      "conv2d (Conv2D)              (None, 62, 62, 32)        320       \n",
      "_________________________________________________________________\n",
      "max_pooling2d (MaxPooling2D) (None, 31, 31, 32)        0         \n",
      "_________________________________________________________________\n",
      "conv2d_1 (Conv2D)            (None, 29, 29, 32)        9248      \n",
      "_________________________________________________________________\n",
      "max_pooling2d_1 (MaxPooling2 (None, 14, 14, 32)        0         \n",
      "_________________________________________________________________\n",
      "flatten (Flatten)            (None, 6272)              0         \n",
      "_________________________________________________________________\n",
      "dense (Dense)                (None, 128)               802944    \n",
      "_________________________________________________________________\n",
      "dense_1 (Dense)              (None, 6)                 774       \n",
      "=================================================================\n",
      "Total params: 813,286\n",
      "Trainable params: 813,286\n",
      "Non-trainable params: 0\n",
      "_________________________________________________________________\n"
     ]
    }
   ],
   "source": [
    "classifier.summary()"
   ]
  },
  {
   "cell_type": "markdown",
   "metadata": {},
   "source": [
    "# compiling the model"
   ]
  },
  {
   "cell_type": "code",
   "execution_count": 12,
   "metadata": {},
   "outputs": [],
   "source": [
    "classifier.compile(optimizer='adam', loss='categorical_crossentropy', metrics=['accuracy'])"
   ]
  },
  {
   "cell_type": "markdown",
   "metadata": {},
   "source": [
    "# Training the model\n"
   ]
  },
  {
   "cell_type": "markdown",
   "metadata": {},
   "source": [
    "# fitting the model"
   ]
  },
  {
   "cell_type": "code",
   "execution_count": 13,
   "metadata": {},
   "outputs": [
    {
     "name": "stdout",
     "output_type": "stream",
     "text": [
      "Epoch 1/50\n",
      "119/119 [==============================] - 10s 81ms/step - loss: 1.4729 - acc: 0.4040 - val_loss: 0.7769 - val_acc: 0.6333\n",
      "Epoch 2/50\n",
      "119/119 [==============================] - 4s 36ms/step - loss: 0.7414 - acc: 0.7138 - val_loss: 0.6818 - val_acc: 0.6667\n",
      "Epoch 3/50\n",
      "119/119 [==============================] - 4s 36ms/step - loss: 0.4978 - acc: 0.8081 - val_loss: 0.3649 - val_acc: 0.9333\n",
      "Epoch 4/50\n",
      "119/119 [==============================] - 4s 36ms/step - loss: 0.3940 - acc: 0.8620 - val_loss: 0.6529 - val_acc: 0.7667\n",
      "Epoch 5/50\n",
      "119/119 [==============================] - 4s 37ms/step - loss: 0.3448 - acc: 0.8704 - val_loss: 0.3133 - val_acc: 0.8667\n",
      "Epoch 6/50\n",
      "119/119 [==============================] - 4s 36ms/step - loss: 0.2118 - acc: 0.9209 - val_loss: 0.2233 - val_acc: 0.9333\n",
      "Epoch 7/50\n",
      "119/119 [==============================] - 4s 37ms/step - loss: 0.2110 - acc: 0.9192 - val_loss: 0.2747 - val_acc: 0.9333\n",
      "Epoch 8/50\n",
      "119/119 [==============================] - 4s 36ms/step - loss: 0.1269 - acc: 0.9512 - val_loss: 0.2701 - val_acc: 0.9667\n",
      "Epoch 9/50\n",
      "119/119 [==============================] - 4s 36ms/step - loss: 0.1223 - acc: 0.9562 - val_loss: 0.2318 - val_acc: 0.9667\n",
      "Epoch 10/50\n",
      "119/119 [==============================] - 4s 35ms/step - loss: 0.0743 - acc: 0.9781 - val_loss: 0.2376 - val_acc: 0.9333\n",
      "Epoch 11/50\n",
      "119/119 [==============================] - 4s 36ms/step - loss: 0.1139 - acc: 0.9630 - val_loss: 0.1224 - val_acc: 0.9667\n",
      "Epoch 12/50\n",
      "119/119 [==============================] - 4s 37ms/step - loss: 0.0550 - acc: 0.9848 - val_loss: 0.2917 - val_acc: 0.9000\n",
      "Epoch 13/50\n",
      "119/119 [==============================] - 5s 40ms/step - loss: 0.0333 - acc: 0.9916 - val_loss: 0.5596 - val_acc: 0.9000\n",
      "Epoch 14/50\n",
      "119/119 [==============================] - 5s 42ms/step - loss: 0.0669 - acc: 0.9747 - val_loss: 0.2241 - val_acc: 0.9667\n",
      "Epoch 15/50\n",
      "119/119 [==============================] - 4s 37ms/step - loss: 0.0733 - acc: 0.9747 - val_loss: 0.3178 - val_acc: 0.9667\n",
      "Epoch 16/50\n",
      "119/119 [==============================] - 5s 39ms/step - loss: 0.1189 - acc: 0.9495 - val_loss: 0.1736 - val_acc: 0.9667\n",
      "Epoch 17/50\n",
      "119/119 [==============================] - 4s 37ms/step - loss: 0.0519 - acc: 0.9865 - val_loss: 0.2880 - val_acc: 0.9333\n",
      "Epoch 18/50\n",
      "119/119 [==============================] - 4s 37ms/step - loss: 0.0411 - acc: 0.9865 - val_loss: 0.1046 - val_acc: 0.9667\n",
      "Epoch 19/50\n",
      "119/119 [==============================] - 5s 38ms/step - loss: 0.0479 - acc: 0.9798 - val_loss: 0.1304 - val_acc: 0.9333\n",
      "Epoch 20/50\n",
      "119/119 [==============================] - 5s 40ms/step - loss: 0.0281 - acc: 0.9916 - val_loss: 0.1996 - val_acc: 0.9000\n",
      "Epoch 21/50\n",
      "119/119 [==============================] - 5s 42ms/step - loss: 0.0355 - acc: 0.9865 - val_loss: 0.1823 - val_acc: 0.9667\n",
      "Epoch 22/50\n",
      "119/119 [==============================] - 5s 38ms/step - loss: 0.0472 - acc: 0.9815 - val_loss: 0.1940 - val_acc: 0.9333\n",
      "Epoch 23/50\n",
      "119/119 [==============================] - 4s 37ms/step - loss: 0.0366 - acc: 0.9865 - val_loss: 0.0750 - val_acc: 0.9667\n",
      "Epoch 24/50\n",
      "119/119 [==============================] - 5s 38ms/step - loss: 0.0244 - acc: 0.9933 - val_loss: 0.2168 - val_acc: 0.9667\n",
      "Epoch 25/50\n",
      "119/119 [==============================] - 4s 37ms/step - loss: 0.0109 - acc: 0.9983 - val_loss: 0.1309 - val_acc: 0.9667\n",
      "Epoch 26/50\n",
      "119/119 [==============================] - 5s 39ms/step - loss: 0.0050 - acc: 1.0000 - val_loss: 0.0410 - val_acc: 0.9667\n",
      "Epoch 27/50\n",
      "119/119 [==============================] - 5s 41ms/step - loss: 0.0080 - acc: 0.9983 - val_loss: 0.1287 - val_acc: 0.9667\n",
      "Epoch 28/50\n",
      "119/119 [==============================] - 4s 38ms/step - loss: 0.0071 - acc: 0.9966 - val_loss: 0.2788 - val_acc: 0.9667\n",
      "Epoch 29/50\n",
      "119/119 [==============================] - 4s 37ms/step - loss: 0.0245 - acc: 0.9933 - val_loss: 0.2653 - val_acc: 0.9000\n",
      "Epoch 30/50\n",
      "119/119 [==============================] - 4s 38ms/step - loss: 0.1206 - acc: 0.9562 - val_loss: 0.2122 - val_acc: 0.9000\n",
      "Epoch 31/50\n",
      "119/119 [==============================] - 4s 37ms/step - loss: 0.0415 - acc: 0.9865 - val_loss: 0.1217 - val_acc: 0.9333\n",
      "Epoch 32/50\n",
      "119/119 [==============================] - 5s 39ms/step - loss: 0.0116 - acc: 0.9966 - val_loss: 0.1026 - val_acc: 0.9667\n",
      "Epoch 33/50\n",
      "119/119 [==============================] - 4s 38ms/step - loss: 0.0253 - acc: 0.9899 - val_loss: 0.0862 - val_acc: 0.9667\n",
      "Epoch 34/50\n",
      "119/119 [==============================] - 5s 40ms/step - loss: 0.0127 - acc: 0.9949 - val_loss: 0.1254 - val_acc: 0.9667\n",
      "Epoch 35/50\n",
      "119/119 [==============================] - 5s 40ms/step - loss: 0.0109 - acc: 0.9966 - val_loss: 0.1576 - val_acc: 0.9667\n",
      "Epoch 36/50\n",
      "119/119 [==============================] - 4s 36ms/step - loss: 0.0064 - acc: 0.9983 - val_loss: 0.2376 - val_acc: 0.9667\n",
      "Epoch 37/50\n",
      "119/119 [==============================] - 5s 38ms/step - loss: 0.0193 - acc: 0.9916 - val_loss: 0.0606 - val_acc: 0.9667\n",
      "Epoch 38/50\n",
      "119/119 [==============================] - 5s 40ms/step - loss: 0.0300 - acc: 0.9899 - val_loss: 0.3062 - val_acc: 0.9667\n",
      "Epoch 39/50\n",
      "119/119 [==============================] - 5s 40ms/step - loss: 0.0354 - acc: 0.9882 - val_loss: 0.0411 - val_acc: 0.9667\n",
      "Epoch 40/50\n",
      "119/119 [==============================] - 5s 45ms/step - loss: 0.0184 - acc: 0.9933 - val_loss: 0.1122 - val_acc: 0.9667\n",
      "Epoch 41/50\n",
      "119/119 [==============================] - 5s 38ms/step - loss: 0.0482 - acc: 0.9832 - val_loss: 0.4113 - val_acc: 0.9000\n",
      "Epoch 42/50\n",
      "119/119 [==============================] - 4s 37ms/step - loss: 0.0397 - acc: 0.9899 - val_loss: 0.0646 - val_acc: 0.9667\n",
      "Epoch 43/50\n",
      "119/119 [==============================] - 4s 37ms/step - loss: 0.0291 - acc: 0.9916 - val_loss: 0.1426 - val_acc: 0.9667\n",
      "Epoch 44/50\n",
      "119/119 [==============================] - 4s 38ms/step - loss: 0.0131 - acc: 0.9933 - val_loss: 0.5899 - val_acc: 0.9667\n",
      "Epoch 45/50\n",
      "119/119 [==============================] - 5s 38ms/step - loss: 0.0224 - acc: 0.9933 - val_loss: 0.5107 - val_acc: 0.9667\n",
      "Epoch 46/50\n",
      "119/119 [==============================] - 5s 39ms/step - loss: 0.0090 - acc: 0.9949 - val_loss: 0.4897 - val_acc: 0.9667\n",
      "Epoch 47/50\n",
      "119/119 [==============================] - 4s 37ms/step - loss: 0.0176 - acc: 0.9933 - val_loss: 0.4718 - val_acc: 0.9667\n",
      "Epoch 48/50\n",
      "119/119 [==============================] - 4s 38ms/step - loss: 0.0213 - acc: 0.9933 - val_loss: 0.4841 - val_acc: 0.9667\n",
      "Epoch 49/50\n",
      "119/119 [==============================] - 4s 38ms/step - loss: 0.0125 - acc: 0.9933 - val_loss: 0.4560 - val_acc: 0.9667\n",
      "Epoch 50/50\n",
      "119/119 [==============================] - 4s 38ms/step - loss: 0.0241 - acc: 0.9899 - val_loss: 0.4721 - val_acc: 0.9667\n"
     ]
    },
    {
     "data": {
      "text/plain": [
       "<tensorflow.python.keras.callbacks.History at 0x27722d8b630>"
      ]
     },
     "execution_count": 13,
     "metadata": {},
     "output_type": "execute_result"
    }
   ],
   "source": [
    " classifier.fit_generator(\n",
    "        generator=x_train,steps_per_epoch = len(x_train),\n",
    "        epochs=50, validation_data=x_test,validation_steps = len(x_test))"
   ]
  },
  {
   "cell_type": "markdown",
   "metadata": {},
   "source": [
    "# saving our model"
   ]
  },
  {
   "cell_type": "code",
   "execution_count": 14,
   "metadata": {},
   "outputs": [],
   "source": [
    "classifier.save('gesture.h5')"
   ]
  },
  {
   "cell_type": "code",
   "execution_count": 15,
   "metadata": {},
   "outputs": [],
   "source": [
    "model_json = classifier.to_json()\n",
    "with open(\"model-bw.json\", \"w\") as json_file:\n",
    "    json_file.write(model_json)"
   ]
  },
  {
   "cell_type": "markdown",
   "metadata": {},
   "source": [
    "# Testing the model"
   ]
  },
  {
   "cell_type": "markdown",
   "metadata": {},
   "source": [
    "# predicting the results"
   ]
  },
  {
   "cell_type": "code",
   "execution_count": 16,
   "metadata": {},
   "outputs": [
    {
     "name": "stdout",
     "output_type": "stream",
     "text": [
      "WARNING:tensorflow:From C:\\Users\\manisha\\Anaconda3\\lib\\site-packages\\tensorflow\\python\\ops\\init_ops.py:97: calling GlorotUniform.__init__ (from tensorflow.python.ops.init_ops) with dtype is deprecated and will be removed in a future version.\n",
      "Instructions for updating:\n",
      "Call initializer instance with the dtype argument instead of passing it to the constructor\n",
      "WARNING:tensorflow:From C:\\Users\\manisha\\Anaconda3\\lib\\site-packages\\tensorflow\\python\\ops\\init_ops.py:97: calling Zeros.__init__ (from tensorflow.python.ops.init_ops) with dtype is deprecated and will be removed in a future version.\n",
      "Instructions for updating:\n",
      "Call initializer instance with the dtype argument instead of passing it to the constructor\n"
     ]
    }
   ],
   "source": [
    "from tensorflow.keras.models import load_model\n",
    "from keras.preprocessing import image\n",
    "model = load_model(\"gesture.h5\")"
   ]
  },
  {
   "cell_type": "code",
   "execution_count": 23,
   "metadata": {},
   "outputs": [
    {
     "data": {
      "text/plain": [
       "array([3], dtype=int64)"
      ]
     },
     "execution_count": 23,
     "metadata": {},
     "output_type": "execute_result"
    }
   ],
   "source": [
    "img = image.load_img(r\"C:\\Manisha\\3.jpg\",grayscale=True,target_size= (64,64))\n",
    "x = image.img_to_array(img)\n",
    "x = np.expand_dims(x,axis = 0)\n",
    "pred = model.predict_classes(x)\n",
    "pred"
   ]
  },
  {
   "cell_type": "code",
   "execution_count": 24,
   "metadata": {},
   "outputs": [
    {
     "data": {
      "text/plain": [
       "'3'"
      ]
     },
     "execution_count": 24,
     "metadata": {},
     "output_type": "execute_result"
    }
   ],
   "source": [
    "index=['0','1','2','3','4','5']\n",
    "result=str(index[pred[0]])\n",
    "result"
   ]
  },
  {
   "cell_type": "code",
   "execution_count": null,
   "metadata": {},
   "outputs": [],
   "source": []
  },
  {
   "cell_type": "code",
   "execution_count": null,
   "metadata": {},
   "outputs": [],
   "source": []
  },
  {
   "cell_type": "code",
   "execution_count": null,
   "metadata": {},
   "outputs": [],
   "source": []
  },
  {
   "cell_type": "code",
   "execution_count": null,
   "metadata": {},
   "outputs": [],
   "source": []
  },
  {
   "cell_type": "code",
   "execution_count": null,
   "metadata": {},
   "outputs": [],
   "source": []
  },
  {
   "cell_type": "code",
   "execution_count": null,
   "metadata": {},
   "outputs": [],
   "source": []
  },
  {
   "cell_type": "code",
   "execution_count": null,
   "metadata": {},
   "outputs": [],
   "source": []
  },
  {
   "cell_type": "code",
   "execution_count": null,
   "metadata": {},
   "outputs": [],
   "source": []
  }
 ],
 "metadata": {
  "kernelspec": {
   "display_name": "Python 3",
   "language": "python",
   "name": "python3"
  },
  "language_info": {
   "codemirror_mode": {
    "name": "ipython",
    "version": 3
   },
   "file_extension": ".py",
   "mimetype": "text/x-python",
   "name": "python",
   "nbconvert_exporter": "python",
   "pygments_lexer": "ipython3",
   "version": "3.7.3"
  }
 },
 "nbformat": 4,
 "nbformat_minor": 2
}
